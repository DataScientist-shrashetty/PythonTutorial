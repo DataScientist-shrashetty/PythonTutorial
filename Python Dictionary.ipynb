{
 "cells": [
  {
   "cell_type": "markdown",
   "id": "a1ec6741",
   "metadata": {},
   "source": [
    "Dictionary is mutable key value pairs stored inside {}. key in unique and must be of datatype(string,int,tuple)"
   ]
  },
  {
   "cell_type": "code",
   "execution_count": 1,
   "id": "2b45f1cf",
   "metadata": {},
   "outputs": [
    {
     "name": "stdout",
     "output_type": "stream",
     "text": [
      "<class 'dict'>\n",
      "<class 'dict'>\n"
     ]
    }
   ],
   "source": [
    "# create empty dictionary\n",
    "my_dict = {}\n",
    "print(type(my_dict))\n",
    "my_dict2 = dict()\n",
    "print(type(my_dict2))"
   ]
  },
  {
   "cell_type": "code",
   "execution_count": 2,
   "id": "d2a775fd",
   "metadata": {},
   "outputs": [
    {
     "name": "stdout",
     "output_type": "stream",
     "text": [
      "<class 'dict'> <class 'dict'>\n"
     ]
    }
   ],
   "source": [
    "# from list \n",
    "my_dict3 = dict([(1,\"apple\"),\n",
    "                (2, \"kiwi\")])\n",
    "# from tuple\n",
    "my_dict4 = dict({1:\"apple\",\n",
    "                2:\"kiwi\"})\n",
    "print(type(my_dict3),type(my_dict4))"
   ]
  },
  {
   "cell_type": "code",
   "execution_count": 3,
   "id": "80a3f062",
   "metadata": {},
   "outputs": [
    {
     "name": "stdout",
     "output_type": "stream",
     "text": [
      "apple\n",
      "apple\n",
      "None\n"
     ]
    }
   ],
   "source": [
    "# accesing elements from dictionary\n",
    "# my_dict4 ={1: 'apple', 2: 'kiwi'}\n",
    "print(my_dict4[1])\n",
    "# print(my_dict4[3]) # gives key error if key not present\n",
    "print(my_dict4.get(1))\n",
    "print(my_dict4.get(3))"
   ]
  },
  {
   "cell_type": "code",
   "execution_count": 4,
   "id": "aaebc685",
   "metadata": {},
   "outputs": [
    {
     "name": "stdout",
     "output_type": "stream",
     "text": [
      "{1: 'orange', 2: 'kiwi'}\n",
      "{1: 'orange', 2: 'kiwi', 3: 'pineapple'}\n"
     ]
    }
   ],
   "source": [
    "# changing or adding dictionary elements\n",
    "my_dict4[1]=\"orange\"\n",
    "print(my_dict4)\n",
    "my_dict4[3]=\"pineapple\"\n",
    "print(my_dict4)"
   ]
  },
  {
   "cell_type": "code",
   "execution_count": 5,
   "id": "d196c917",
   "metadata": {},
   "outputs": [
    {
     "name": "stdout",
     "output_type": "stream",
     "text": [
      "pineapple\n",
      "{1: 'orange', 2: 'kiwi'}\n",
      "(2, 'kiwi')\n",
      "{}\n"
     ]
    },
    {
     "ename": "NameError",
     "evalue": "name 'my_dict4' is not defined",
     "output_type": "error",
     "traceback": [
      "\u001b[1;31m---------------------------------------------------------------------------\u001b[0m",
      "\u001b[1;31mNameError\u001b[0m                                 Traceback (most recent call last)",
      "Input \u001b[1;32mIn [5]\u001b[0m, in \u001b[0;36m<cell line: 12>\u001b[1;34m()\u001b[0m\n\u001b[0;32m     10\u001b[0m \u001b[38;5;66;03m# del() - deletes dictionary\u001b[39;00m\n\u001b[0;32m     11\u001b[0m \u001b[38;5;28;01mdel\u001b[39;00m my_dict4\n\u001b[1;32m---> 12\u001b[0m \u001b[38;5;28mprint\u001b[39m(\u001b[43mmy_dict4\u001b[49m)\n",
      "\u001b[1;31mNameError\u001b[0m: name 'my_dict4' is not defined"
     ]
    }
   ],
   "source": [
    "# remove element\n",
    "# pop() - give key- remove the value if key not present it will throw error\n",
    "print(my_dict4.pop(3))\n",
    "print(my_dict4)\n",
    "# popitem() - gives key value pair\n",
    "print(my_dict4.popitem())\n",
    "# clear() - empty dictionary\n",
    "my_dict4.clear()\n",
    "print(my_dict4)\n",
    "# del() - deletes dictionary\n",
    "del my_dict4\n",
    "print(my_dict4)"
   ]
  },
  {
   "cell_type": "code",
   "execution_count": null,
   "id": "e1b16306",
   "metadata": {},
   "outputs": [],
   "source": [
    "# copy() - creates a shallow copy\n",
    "# items() - gives all item\n",
    "# values() - return values\n",
    "# setdeafult(key[]) - default key value pair\n",
    "# update([])"
   ]
  },
  {
   "cell_type": "code",
   "execution_count": 6,
   "id": "35db1c80",
   "metadata": {},
   "outputs": [
    {
     "name": "stdout",
     "output_type": "stream",
     "text": [
      "{0: 0, 1: 1, 2: 4, 3: 9, 4: 16, 5: 25}\n"
     ]
    }
   ],
   "source": [
    "# Computing square of 6 natural numbers and storing value in dictionary as key(number):value(square)\n",
    "square = {}\n",
    "for i in range(6):\n",
    "    square[i]= i*i\n",
    "print(square)"
   ]
  },
  {
   "cell_type": "code",
   "execution_count": 7,
   "id": "54974a13",
   "metadata": {},
   "outputs": [
    {
     "name": "stdout",
     "output_type": "stream",
     "text": [
      "{0: 0, 1: 1, 2: 4, 3: 9, 4: 16, 5: 25}\n"
     ]
    }
   ],
   "source": [
    "# dictionary comprehension\n",
    "square = {i:i*i for i in range(6)}\n",
    "print(square)"
   ]
  },
  {
   "cell_type": "code",
   "execution_count": null,
   "id": "fc1406a1",
   "metadata": {},
   "outputs": [],
   "source": []
  }
 ],
 "metadata": {
  "kernelspec": {
   "display_name": "Python 3 (ipykernel)",
   "language": "python",
   "name": "python3"
  },
  "language_info": {
   "codemirror_mode": {
    "name": "ipython",
    "version": 3
   },
   "file_extension": ".py",
   "mimetype": "text/x-python",
   "name": "python",
   "nbconvert_exporter": "python",
   "pygments_lexer": "ipython3",
   "version": "3.9.12"
  }
 },
 "nbformat": 4,
 "nbformat_minor": 5
}
