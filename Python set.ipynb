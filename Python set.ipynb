{
 "cells": [
  {
   "cell_type": "markdown",
   "id": "07921bba",
   "metadata": {},
   "source": [
    "Set is  mutable unordered collection of unique different types of immutable items(string,int,float,tuple) but not (dictionary,list, or set)(no nested set) enclosed inside curly braces"
   ]
  },
  {
   "cell_type": "code",
   "execution_count": 1,
   "id": "458935da",
   "metadata": {},
   "outputs": [
    {
     "name": "stdout",
     "output_type": "stream",
     "text": [
      "{1, 2, 3} <class 'set'>\n"
     ]
    }
   ],
   "source": [
    "# create set\n",
    "my_set = {1,2,3}\n",
    "print(my_set, type(my_set))"
   ]
  },
  {
   "cell_type": "code",
   "execution_count": 2,
   "id": "5d1c5dd7",
   "metadata": {},
   "outputs": [
    {
     "name": "stdout",
     "output_type": "stream",
     "text": [
      "{1, (1, 2, 3), 5.65, 'Hello'} <class 'set'>\n"
     ]
    }
   ],
   "source": [
    "# set with different datatype\n",
    "eg_set = {1, \"Hello\", 5.65, (1,2,3) }\n",
    "print(eg_set, type(eg_set))"
   ]
  },
  {
   "cell_type": "code",
   "execution_count": 3,
   "id": "f76f6141",
   "metadata": {},
   "outputs": [
    {
     "ename": "TypeError",
     "evalue": "unhashable type: 'set'",
     "output_type": "error",
     "traceback": [
      "\u001b[1;31m---------------------------------------------------------------------------\u001b[0m",
      "\u001b[1;31mTypeError\u001b[0m                                 Traceback (most recent call last)",
      "Input \u001b[1;32mIn [3]\u001b[0m, in \u001b[0;36m<cell line: 2>\u001b[1;34m()\u001b[0m\n\u001b[0;32m      1\u001b[0m \u001b[38;5;66;03m# set with dictionary,list,set\u001b[39;00m\n\u001b[1;32m----> 2\u001b[0m fault_set \u001b[38;5;241m=\u001b[39m {{\u001b[38;5;241m1\u001b[39m,\u001b[38;5;241m2\u001b[39m,\u001b[38;5;241m3\u001b[39m},\u001b[38;5;241m4\u001b[39m}\n\u001b[0;32m      3\u001b[0m \u001b[38;5;28mprint\u001b[39m(eg_set, \u001b[38;5;28mtype\u001b[39m(eg_set))\n",
      "\u001b[1;31mTypeError\u001b[0m: unhashable type: 'set'"
     ]
    }
   ],
   "source": [
    "# set with dictionary,list,set\n",
    "fault_set = {{1,2,3},4}"
   ]
  },
  {
   "cell_type": "code",
   "execution_count": 4,
   "id": "7ca304e1",
   "metadata": {},
   "outputs": [
    {
     "name": "stdout",
     "output_type": "stream",
     "text": [
      "<class 'dict'> <class 'set'>\n"
     ]
    }
   ],
   "source": [
    "# create empty set\n",
    "a = {} # empty dict is created not set \n",
    "b = set()\n",
    "print(type(a),type(b))"
   ]
  },
  {
   "cell_type": "code",
   "execution_count": 5,
   "id": "66986177",
   "metadata": {},
   "outputs": [
    {
     "name": "stdout",
     "output_type": "stream",
     "text": [
      "{2, 3, 4}\n"
     ]
    }
   ],
   "source": [
    "# unique elements in set\n",
    "c = {2,3,4,2,4}\n",
    "print(c)"
   ]
  },
  {
   "cell_type": "code",
   "execution_count": 6,
   "id": "4d9ece8b",
   "metadata": {},
   "outputs": [
    {
     "name": "stdout",
     "output_type": "stream",
     "text": [
      "{0, 5, 7, 8, 9}\n",
      "{0, 2, 5, 7, 8, 9}\n"
     ]
    }
   ],
   "source": [
    "d = {9,8,5,0,7,9}\n",
    "print(d)\n",
    "# adding element to set d ={0, 5, 7, 8, 9}\n",
    "d.add(2)\n",
    "print(d)"
   ]
  },
  {
   "cell_type": "code",
   "execution_count": 7,
   "id": "8be6d568",
   "metadata": {},
   "outputs": [
    {
     "name": "stdout",
     "output_type": "stream",
     "text": [
      "{0, 1, 2, 3, 5, 7, 8, 9}\n"
     ]
    }
   ],
   "source": [
    "# update element to set d ={0,2, 5, 7, 8, 9}\n",
    "d.update([1,2,3,5])\n",
    "print(d)"
   ]
  },
  {
   "cell_type": "code",
   "execution_count": 8,
   "id": "ad57d44a",
   "metadata": {},
   "outputs": [
    {
     "name": "stdout",
     "output_type": "stream",
     "text": [
      "{0, 1, 2, 3, 4, 5, 6, 7, 8, 9}\n"
     ]
    }
   ],
   "source": [
    "d.update([4,5],{1,6,8})\n",
    "print(d)"
   ]
  },
  {
   "cell_type": "code",
   "execution_count": 9,
   "id": "659530c3",
   "metadata": {},
   "outputs": [
    {
     "name": "stdout",
     "output_type": "stream",
     "text": [
      "{1, 2, 3, 4, 5, 6, 7, 8, 9}\n"
     ]
    }
   ],
   "source": [
    "# remove elements from a set # d={0, 1, 2, 3, 4, 5, 6, 7, 8, 9}\n",
    "d.discard(0)\n",
    "print(d)"
   ]
  },
  {
   "cell_type": "code",
   "execution_count": 10,
   "id": "b831cbb3",
   "metadata": {},
   "outputs": [
    {
     "name": "stdout",
     "output_type": "stream",
     "text": [
      "{1, 2, 3, 4, 5, 6, 7, 8, 9}\n"
     ]
    }
   ],
   "source": [
    "d.discard(10)\n",
    "print(d)"
   ]
  },
  {
   "cell_type": "code",
   "execution_count": 11,
   "id": "894e53f6",
   "metadata": {},
   "outputs": [
    {
     "name": "stdout",
     "output_type": "stream",
     "text": [
      "{1, 2, 3, 4, 6, 7, 8, 9}\n"
     ]
    }
   ],
   "source": [
    "# remove() # d={1, 2, 3, 4, 5, 6, 7, 8, 9}\n",
    "d.remove(5)\n",
    "print(d)"
   ]
  },
  {
   "cell_type": "code",
   "execution_count": 12,
   "id": "d5f12a49",
   "metadata": {},
   "outputs": [
    {
     "ename": "KeyError",
     "evalue": "5",
     "output_type": "error",
     "traceback": [
      "\u001b[1;31m---------------------------------------------------------------------------\u001b[0m",
      "\u001b[1;31mKeyError\u001b[0m                                  Traceback (most recent call last)",
      "Input \u001b[1;32mIn [12]\u001b[0m, in \u001b[0;36m<cell line: 1>\u001b[1;34m()\u001b[0m\n\u001b[1;32m----> 1\u001b[0m \u001b[43md\u001b[49m\u001b[38;5;241;43m.\u001b[39;49m\u001b[43mremove\u001b[49m\u001b[43m(\u001b[49m\u001b[38;5;241;43m5\u001b[39;49m\u001b[43m)\u001b[49m\n\u001b[0;32m      2\u001b[0m \u001b[38;5;28mprint\u001b[39m(d)\n",
      "\u001b[1;31mKeyError\u001b[0m: 5"
     ]
    }
   ],
   "source": [
    "d.remove(5)\n",
    "print(d)"
   ]
  },
  {
   "cell_type": "code",
   "execution_count": 13,
   "id": "0246eceb",
   "metadata": {},
   "outputs": [
    {
     "data": {
      "text/plain": [
       "1"
      ]
     },
     "execution_count": 13,
     "metadata": {},
     "output_type": "execute_result"
    }
   ],
   "source": [
    "# pop() # d ={1, 2, 3, 4, 6, 7, 8, 9}\n",
    "d.pop()\n",
    "# clear()"
   ]
  },
  {
   "cell_type": "code",
   "execution_count": 14,
   "id": "829fa67c",
   "metadata": {},
   "outputs": [
    {
     "data": {
      "text/plain": [
       "2"
      ]
     },
     "execution_count": 14,
     "metadata": {},
     "output_type": "execute_result"
    }
   ],
   "source": [
    "d.pop()"
   ]
  },
  {
   "cell_type": "code",
   "execution_count": 15,
   "id": "ddeec5c3",
   "metadata": {},
   "outputs": [
    {
     "name": "stdout",
     "output_type": "stream",
     "text": [
      "set()\n"
     ]
    }
   ],
   "source": [
    "d.clear()\n",
    "print(d)"
   ]
  },
  {
   "cell_type": "code",
   "execution_count": 16,
   "id": "77b6703f",
   "metadata": {},
   "outputs": [
    {
     "ename": "KeyError",
     "evalue": "'pop from an empty set'",
     "output_type": "error",
     "traceback": [
      "\u001b[1;31m---------------------------------------------------------------------------\u001b[0m",
      "\u001b[1;31mKeyError\u001b[0m                                  Traceback (most recent call last)",
      "Input \u001b[1;32mIn [16]\u001b[0m, in \u001b[0;36m<cell line: 1>\u001b[1;34m()\u001b[0m\n\u001b[1;32m----> 1\u001b[0m \u001b[43md\u001b[49m\u001b[38;5;241;43m.\u001b[39;49m\u001b[43mpop\u001b[49m\u001b[43m(\u001b[49m\u001b[43m)\u001b[49m\n",
      "\u001b[1;31mKeyError\u001b[0m: 'pop from an empty set'"
     ]
    }
   ],
   "source": [
    "d.pop()"
   ]
  },
  {
   "cell_type": "code",
   "execution_count": 17,
   "id": "4b052fcf",
   "metadata": {},
   "outputs": [
    {
     "name": "stdout",
     "output_type": "stream",
     "text": [
      "{1, 2, 3, 4, 5, 6, 7, 8, 9}\n",
      "{1, 2, 3, 4, 5, 6, 7, 8, 9}\n",
      "{1, 2, 3, 4, 5, 6, 7, 8, 9}\n"
     ]
    }
   ],
   "source": [
    "# set operation \n",
    "A = {1,2,3,4,5}\n",
    "B = {6,7,8,9}\n",
    "C = {3,4,5,6,7,8}\n",
    "# union =AUB\n",
    "print(A|B)\n",
    "print(A.union(B))\n",
    "print(B.union(A))"
   ]
  },
  {
   "cell_type": "code",
   "execution_count": 18,
   "id": "cb065620",
   "metadata": {},
   "outputs": [
    {
     "name": "stdout",
     "output_type": "stream",
     "text": [
      "{3, 4, 5}\n",
      "{3, 4, 5}\n",
      "{8, 6, 7}\n",
      "set()\n"
     ]
    }
   ],
   "source": [
    "# intersection\n",
    "print(A&C)\n",
    "print(A.intersection(C))\n",
    "print(B.intersection(C))\n",
    "print(A&B)"
   ]
  },
  {
   "cell_type": "code",
   "execution_count": 19,
   "id": "9dfd68e4",
   "metadata": {},
   "outputs": [
    {
     "name": "stdout",
     "output_type": "stream",
     "text": [
      "{1, 2}\n",
      "{1, 2}\n"
     ]
    }
   ],
   "source": [
    "# set difference (A-C) = elements available in A and not in C\n",
    "print(A-C)\n",
    "print(A.difference(C))"
   ]
  },
  {
   "cell_type": "code",
   "execution_count": 20,
   "id": "c437d189",
   "metadata": {},
   "outputs": [
    {
     "name": "stdout",
     "output_type": "stream",
     "text": [
      "{1, 2, 6, 7, 8}\n",
      "{1, 2, 6, 7, 8}\n"
     ]
    }
   ],
   "source": [
    "# set symmetric - elements in both set except intersection\n",
    "print(A^C)\n",
    "print(A.symmetric_difference(C))"
   ]
  },
  {
   "cell_type": "code",
   "execution_count": 21,
   "id": "bbbd643c",
   "metadata": {},
   "outputs": [],
   "source": [
    "# diffference_update()\n",
    "# insertion_update()\n",
    "# isdisjoint()\n",
    "# issubset()\n",
    "# issuperset()\n",
    "# symmetric_difference_update()\n",
    "# update()\n",
    "# all()\n",
    "# any()\n",
    "# enumerate()\n",
    "# len()\n",
    "# max()\n",
    "# min()\n",
    "# sorted()\n",
    "# sum()"
   ]
  },
  {
   "cell_type": "code",
   "execution_count": null,
   "id": "15d4e3a5",
   "metadata": {},
   "outputs": [],
   "source": []
  }
 ],
 "metadata": {
  "kernelspec": {
   "display_name": "Python 3 (ipykernel)",
   "language": "python",
   "name": "python3"
  },
  "language_info": {
   "codemirror_mode": {
    "name": "ipython",
    "version": 3
   },
   "file_extension": ".py",
   "mimetype": "text/x-python",
   "name": "python",
   "nbconvert_exporter": "python",
   "pygments_lexer": "ipython3",
   "version": "3.9.12"
  }
 },
 "nbformat": 4,
 "nbformat_minor": 5
}
