{
 "cells": [
  {
   "cell_type": "markdown",
   "id": "47a0341a",
   "metadata": {},
   "source": [
    "Python is Object oriented, Platform independent, interpreted, open-source, scripting and programming language"
   ]
  },
  {
   "cell_type": "markdown",
   "id": "8118a6e0",
   "metadata": {},
   "source": [
    "pip is the recommended package-management system written in Python and is used to install and manage software packages.It connects both:\n",
    "1. to an online repository of public packages, called the Python Package Index.\n",
    "2. to other package repositories (local or remote), \n",
    "provided that they comply to Python Enhancement Proposal 503."
   ]
  },
  {
   "cell_type": "markdown",
   "id": "1937a01f",
   "metadata": {},
   "source": [
    "PEP stands for Python Enhancement Proposal it is a design document providing information to the Python community, \n",
    "or describing a new feature for Python or its processes or environment. \n",
    "The PEP should provide a concise technical specification of the feature and a rationale for the feature"
   ]
  },
  {
   "cell_type": "markdown",
   "id": "88998318",
   "metadata": {},
   "source": [
    "Finding the location of pip and python installed\n",
    "where python\n",
    "where pip\n",
    "Finding the version of pip and python installed\n",
    "python --version\n",
    "python -V\n",
    "pip --version\n",
    "pip -V\n",
    "NOTE: THESE COMMANDS needs to be executed in prompt( Command prompt)\n",
    "pip install --upgrade pip\n",
    "python -m pip install --upgrade pip"
   ]
  },
  {
   "cell_type": "markdown",
   "id": "6ec42752",
   "metadata": {},
   "source": [
    "IDLE- Integrated Development Environment"
   ]
  },
  {
   "cell_type": "code",
   "execution_count": null,
   "id": "9d96cfbb",
   "metadata": {},
   "outputs": [],
   "source": [
    "pip install numpy "
   ]
  },
  {
   "cell_type": "code",
   "execution_count": null,
   "id": "c441ed31",
   "metadata": {},
   "outputs": [],
   "source": [
    "import numpy as np"
   ]
  },
  {
   "cell_type": "code",
   "execution_count": 1,
   "id": "49c63efa",
   "metadata": {},
   "outputs": [
    {
     "data": {
      "text/plain": [
       "'\\nComments in Python - Programmer coherent statement describes what a block of code means.\\nprecise and clear, short and relevant, specific to block of code, least redundant, Preceeds with or enclosed inside\\n1. Single Line comment\\n2. Multiline Comment\\n'"
      ]
     },
     "execution_count": 1,
     "metadata": {},
     "output_type": "execute_result"
    }
   ],
   "source": [
    "# Comments in Python - Programmer coherent statement describes what a block of code means.\n",
    "# precise and clear, short and relevant, specific to block of code, least redundant, Preceeds with # or enclosed inside \"\"\"\"\"\"\n",
    "# 1. Single Line comment\n",
    "# 2. Multiline Comment\n",
    "'''\n",
    "Comments in Python - Programmer coherent statement describes what a block of code means.\n",
    "precise and clear, short and relevant, specific to block of code, least redundant, Preceeds with or enclosed inside\n",
    "1. Single Line comment\n",
    "2. Multiline Comment\n",
    "'''"
   ]
  },
  {
   "cell_type": "code",
   "execution_count": 2,
   "id": "03226e53",
   "metadata": {},
   "outputs": [
    {
     "name": "stdout",
     "output_type": "stream",
     "text": [
      "55\n",
      "20 30 45\n"
     ]
    },
    {
     "data": {
      "text/plain": [
       "'Statements - code instructions that are executed by the python interpreterInterpreter executes statements one by one as they appear in the codeSingle Line statements'"
      ]
     },
     "execution_count": 2,
     "metadata": {},
     "output_type": "execute_result"
    }
   ],
   "source": [
    "# Statements - code instructions that are executed by the python interpreter\n",
    "# Interpreter executes statements one by one as they appear in the code\n",
    "# 1. Single Line statements\n",
    "x = 10 \n",
    "# 2. Multiline Statements\n",
    "# explicit(\\)\n",
    "math_result = 1+2+3+4+\\\n",
    "              5+6+7+8+\\\n",
    "              9+10\n",
    "math_result\n",
    "print(math_result)\n",
    "# implicit \n",
    "message = (\"Statements - code instructions that are executed by the python interpreter\"\n",
    "            \"Interpreter executes statements one by one as they appear in the code\"\n",
    "            \"Single Line statements\")\n",
    "# 3. Multiple Statements in single line\n",
    "x=20;y=30;z=45\n",
    "print(x,y,z)\n",
    "message"
   ]
  },
  {
   "cell_type": "code",
   "execution_count": 3,
   "id": "595575df",
   "metadata": {},
   "outputs": [
    {
     "name": "stdout",
     "output_type": "stream",
     "text": [
      "5 5 5\n",
      "10 20 30\n",
      "<class 'int'>\n",
      "True\n",
      "True\n",
      "False\n"
     ]
    }
   ],
   "source": [
    "# Variables -reserved memory location to store value in python\n",
    "# 1. No need declaration (Dynamically Programmed)\n",
    "# Assigning value to variable\n",
    "x = 10\n",
    "  # 1. assigning same values to multiple variable\n",
    "a=5\n",
    "b=5\n",
    "c=5\n",
    "a=b=c=5\n",
    "print(a,b,c)\n",
    "  # 2. multiple variable assignment \n",
    "a,b,c = 10,20,30\n",
    "print(a,b,c)\n",
    "# Removing variable\n",
    "# del a\n",
    "# print(a)\n",
    "# finding Datatype of variable \n",
    "# 1. using type() - used to check exact type of the variable\n",
    "print(type(b))\n",
    "# 2. using isinstance() - used to check with considering inheritence\n",
    "print(isinstance(c,int))\n",
    "# 3. issubclass() - checks whether a class is a subclass of another class\n",
    "print(issubclass(bool,int)) #1,0\n",
    "print(issubclass(bool,float)) # 1.0,0.0\n",
    "# naming variable"
   ]
  },
  {
   "cell_type": "code",
   "execution_count": 4,
   "id": "8f00a815",
   "metadata": {},
   "outputs": [],
   "source": [
    "# Datatypes in Python\n",
    "#1. Numbers: int,float,complex\n",
    "#2. Sequence: string, list,tuple\n",
    "#3. Boolean\n",
    "#4. set: frozenset, set\n",
    "#5. Mapping : Dictonary\n",
    "#6. Binary: bytes, bytearray, memoryview\n",
    "# Not an inbuilt : NumpyArray or Array"
   ]
  },
  {
   "cell_type": "code",
   "execution_count": 5,
   "id": "a6d6e3d6",
   "metadata": {},
   "outputs": [
    {
     "name": "stdout",
     "output_type": "stream",
     "text": [
      "<class 'int'>\n",
      "<class 'int'>\n",
      "<class 'float'>\n",
      "25.5\n",
      "25\n",
      "21.0\n",
      "<class 'float'> 46.539277999999996\n"
     ]
    }
   ],
   "source": [
    "# 1.Numbers\n",
    "# 1.A Integer: positive or negative whole numbers(Binary,Octal,Hexadcimal)\n",
    "print(type(-10))\n",
    "print(type(0b1010))# binary\n",
    "# 1.B float: decimal point or internal binary fraction \n",
    "print(type(1.2))\n",
    "# using round function\n",
    "avrg_value = 25.539278\n",
    "age = 21\n",
    "age2 = 25.539278\n",
    "print(round(avrg_value,ndigits=1))\n",
    "# Converting datatypes(int,float)\n",
    "print(int(avrg_value)) # explicit type conversion\n",
    "print(float(age))  # explicit type conversion\n",
    "# implicit type\n",
    "Sum_age = age+age2\n",
    "print(type(Sum_age),Sum_age) # implicit type conversion\n",
    "# '(1+2)'"
   ]
  }
 ],
 "metadata": {
  "kernelspec": {
   "display_name": "Python 3 (ipykernel)",
   "language": "python",
   "name": "python3"
  },
  "language_info": {
   "codemirror_mode": {
    "name": "ipython",
    "version": 3
   },
   "file_extension": ".py",
   "mimetype": "text/x-python",
   "name": "python",
   "nbconvert_exporter": "python",
   "pygments_lexer": "ipython3",
   "version": "3.9.12"
  }
 },
 "nbformat": 4,
 "nbformat_minor": 5
}
