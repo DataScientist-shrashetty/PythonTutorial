{
 "cells": [
  {
   "cell_type": "code",
   "execution_count": 1,
   "id": "7c501bcd",
   "metadata": {},
   "outputs": [
    {
     "data": {
      "text/plain": [
       "8"
      ]
     },
     "execution_count": 1,
     "metadata": {},
     "output_type": "execute_result"
    }
   ],
   "source": [
    "# String: immutable sequence of char enclosed inside quote \n",
    "# string can be indexed \n",
    "Name = \"Shraddha\"\n",
    "len(Name)"
   ]
  },
  {
   "cell_type": "code",
   "execution_count": 2,
   "id": "7aaee93d",
   "metadata": {},
   "outputs": [
    {
     "name": "stdout",
     "output_type": "stream",
     "text": [
      "a\n",
      "Shra\n",
      "Srdh\n",
      "Shraddha\n"
     ]
    }
   ],
   "source": [
    "# String Indexing : Synatx : String[Start index : end index+1 :step] by default step is 1\n",
    "# POSITIVE INDEXING\n",
    "print(Name[7])\n",
    "# start from 0 and includes character upto index 3 \n",
    "print(Name[0:4])\n",
    "print(Name[0:7:2])\n",
    "print(Name[:])"
   ]
  },
  {
   "cell_type": "code",
   "execution_count": 3,
   "id": "c70c295f",
   "metadata": {},
   "outputs": [
    {
     "name": "stdout",
     "output_type": "stream",
     "text": [
      "a\n",
      "addh\n"
     ]
    }
   ],
   "source": [
    "# Negative Indexing\n",
    "print(Name[-1])\n",
    "print(Name[-5:-1])"
   ]
  },
  {
   "cell_type": "code",
   "execution_count": 4,
   "id": "5d3e013e",
   "metadata": {},
   "outputs": [
    {
     "name": "stdout",
     "output_type": "stream",
     "text": [
      "ahddarhS\n"
     ]
    }
   ],
   "source": [
    "# reverse string\n",
    "print(Name[::-1]) "
   ]
  },
  {
   "cell_type": "code",
   "execution_count": 5,
   "id": "c07fd12d",
   "metadata": {},
   "outputs": [
    {
     "name": "stdout",
     "output_type": "stream",
     "text": [
      "ShraddhaShetty ShraddhaShetty\n"
     ]
    }
   ],
   "source": [
    "# Appending\n",
    "Sur_name = \"Shetty\"\n",
    "Full_Name = Name +Sur_name # concatenation\n",
    "F_Name = \"Shraddha\"\"Shetty\"\n",
    "print(Full_Name,F_Name)"
   ]
  },
  {
   "cell_type": "code",
   "execution_count": 6,
   "id": "09a1324a",
   "metadata": {},
   "outputs": [
    {
     "data": {
      "text/plain": [
       "'SShraddhahShraddhaeShraddhatShraddhatShraddhay'"
      ]
     },
     "execution_count": 6,
     "metadata": {},
     "output_type": "execute_result"
    }
   ],
   "source": [
    "Full = \"Shraddha\".join(\"Shetty\")\n",
    "Full"
   ]
  },
  {
   "cell_type": "code",
   "execution_count": 7,
   "id": "66567e10",
   "metadata": {},
   "outputs": [
    {
     "name": "stdout",
     "output_type": "stream",
     "text": [
      "ShraddhaShraddhaShraddha\n"
     ]
    }
   ],
   "source": [
    "Mulp = Name*3\n",
    "print(Mulp)"
   ]
  },
  {
   "cell_type": "code",
   "execution_count": 8,
   "id": "464d9fb8",
   "metadata": {},
   "outputs": [
    {
     "name": "stdout",
     "output_type": "stream",
     "text": [
      "S\n",
      "h\n",
      "r\n",
      "a\n",
      "d\n",
      "d\n",
      "h\n",
      "a\n"
     ]
    }
   ],
   "source": [
    "# string iteration in for loop:\n",
    "# points element\n",
    "for i in Name:\n",
    "    print(i)"
   ]
  },
  {
   "cell_type": "code",
   "execution_count": 9,
   "id": "4dbcb86a",
   "metadata": {},
   "outputs": [
    {
     "name": "stdout",
     "output_type": "stream",
     "text": [
      "0 S\n",
      "1 h\n",
      "2 r\n",
      "3 a\n",
      "4 d\n",
      "5 d\n",
      "6 h\n",
      "7 a\n"
     ]
    }
   ],
   "source": [
    "# points index\n",
    "for i in range(len(Name)):\n",
    "    print(i,Name[i])"
   ]
  },
  {
   "cell_type": "code",
   "execution_count": 10,
   "id": "90d42219",
   "metadata": {},
   "outputs": [
    {
     "name": "stdout",
     "output_type": "stream",
     "text": [
      "15cost in Euro <class 'str'>\n"
     ]
    }
   ],
   "source": [
    "# Type conversion \n",
    "# explicit conversion\n",
    "cost = 15\n",
    "s = \"cost in Euro\"\n",
    "bill = str(cost) + s\n",
    "print(bill,type(bill))\n"
   ]
  },
  {
   "cell_type": "code",
   "execution_count": 11,
   "id": "3c6a4330",
   "metadata": {},
   "outputs": [
    {
     "name": "stdout",
     "output_type": "stream",
     "text": [
      "True\n",
      "False\n"
     ]
    }
   ],
   "source": [
    "# membership operation\n",
    "print('h' in Name)\n",
    "print('h' not in Name)"
   ]
  },
  {
   "cell_type": "code",
   "execution_count": 12,
   "id": "df847226",
   "metadata": {},
   "outputs": [],
   "source": [
    "# iscapital # removed "
   ]
  },
  {
   "cell_type": "code",
   "execution_count": 13,
   "id": "216637a5",
   "metadata": {},
   "outputs": [
    {
     "name": "stdout",
     "output_type": "stream",
     "text": [
      "False\n"
     ]
    }
   ],
   "source": [
    "print(\"Shraddha\".isupper())"
   ]
  },
  {
   "cell_type": "code",
   "execution_count": 14,
   "id": "d6cc0e52",
   "metadata": {},
   "outputs": [
    {
     "name": "stdout",
     "output_type": "stream",
     "text": [
      "False\n"
     ]
    }
   ],
   "source": [
    "print(\"Shraddha\".islower())"
   ]
  },
  {
   "cell_type": "code",
   "execution_count": 15,
   "id": "0a172106",
   "metadata": {},
   "outputs": [],
   "source": [
    "# str.isdigit()\n",
    "# str.isnumeric()\n",
    "# str.isspace()\n",
    "# str.isalnum()\n",
    "# str.isascii()\n",
    "# print(str.istitle(Name))\n",
    "# print(str.lowercase(Name)) # removed"
   ]
  },
  {
   "cell_type": "code",
   "execution_count": 16,
   "id": "0aa773fe",
   "metadata": {},
   "outputs": [
    {
     "name": "stdout",
     "output_type": "stream",
     "text": [
      "2\n",
      "-1\n"
     ]
    }
   ],
   "source": [
    "print(Name.index('ra'))\n",
    "print(Name.find('ay'))"
   ]
  },
  {
   "cell_type": "code",
   "execution_count": 17,
   "id": "35c206d6",
   "metadata": {},
   "outputs": [
    {
     "name": "stdout",
     "output_type": "stream",
     "text": [
      "6\n"
     ]
    }
   ],
   "source": [
    "# finding index of substring in a string without using inbuilt function\n",
    "str= \"ha\"\n",
    "Name =\"Shraddha\"\n",
    "for i in range(len(Name)):\n",
    "    if Name[i] == \"h\":\n",
    "        if Name[i+1] == \"a\":\n",
    "            print(i)  "
   ]
  },
  {
   "cell_type": "code",
   "execution_count": 18,
   "id": "1328065d",
   "metadata": {},
   "outputs": [
    {
     "name": "stdout",
     "output_type": "stream",
     "text": [
      "list[['Shr', 'ddh', '']]\n"
     ]
    }
   ],
   "source": [
    "a =list[Name.split('a')]\n",
    "print(a)"
   ]
  },
  {
   "cell_type": "code",
   "execution_count": 19,
   "id": "43c4056c",
   "metadata": {},
   "outputs": [
    {
     "name": "stdout",
     "output_type": "stream",
     "text": [
      "2\n"
     ]
    }
   ],
   "source": [
    "print(Name.count('a'))"
   ]
  },
  {
   "cell_type": "code",
   "execution_count": 20,
   "id": "0f535362",
   "metadata": {},
   "outputs": [
    {
     "name": "stdout",
     "output_type": "stream",
     "text": [
      "Shraddda\n",
      "Shraddha\n"
     ]
    }
   ],
   "source": [
    "print(Name.replace(\"ha\",\"da\"))\n",
    "print(Name)"
   ]
  },
  {
   "cell_type": "code",
   "execution_count": null,
   "id": "9df677b4",
   "metadata": {},
   "outputs": [],
   "source": []
  }
 ],
 "metadata": {
  "kernelspec": {
   "display_name": "Python 3 (ipykernel)",
   "language": "python",
   "name": "python3"
  },
  "language_info": {
   "codemirror_mode": {
    "name": "ipython",
    "version": 3
   },
   "file_extension": ".py",
   "mimetype": "text/x-python",
   "name": "python",
   "nbconvert_exporter": "python",
   "pygments_lexer": "ipython3",
   "version": "3.9.12"
  }
 },
 "nbformat": 4,
 "nbformat_minor": 5
}
