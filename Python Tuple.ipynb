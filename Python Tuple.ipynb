{
 "cells": [
  {
   "cell_type": "markdown",
   "id": "fbc2744c",
   "metadata": {},
   "source": [
    "Tuple is immutable, ordered collection of different types of element seperated by comma inside parenthesis"
   ]
  },
  {
   "cell_type": "code",
   "execution_count": 1,
   "id": "7eeaa809",
   "metadata": {},
   "outputs": [
    {
     "name": "stdout",
     "output_type": "stream",
     "text": [
      "(1, 'hello', 3.4) <class 'tuple'>\n"
     ]
    }
   ],
   "source": [
    "my_tuple = (1,\"hello\", 3.4)\n",
    "print(my_tuple, type(my_tuple))"
   ]
  },
  {
   "cell_type": "code",
   "execution_count": 2,
   "id": "0b10381e",
   "metadata": {},
   "outputs": [
    {
     "name": "stdout",
     "output_type": "stream",
     "text": [
      "(2, 'bye', 5.6) <class 'tuple'>\n"
     ]
    }
   ],
   "source": [
    "#tuple packing - creates tuple without using parenthesis\n",
    "my_tup = 2, \"bye\", 5.6\n",
    "print(my_tup, type(my_tup))"
   ]
  },
  {
   "cell_type": "code",
   "execution_count": 3,
   "id": "7e4b5885",
   "metadata": {},
   "outputs": [
    {
     "name": "stdout",
     "output_type": "stream",
     "text": [
      "2 bye 5.6 <class 'int'> <class 'str'> <class 'float'>\n"
     ]
    }
   ],
   "source": [
    "#tuple unpacking\n",
    "a,b,c = my_tup\n",
    "print(a,b,c,type(a),type(b),type(c))"
   ]
  },
  {
   "cell_type": "code",
   "execution_count": 4,
   "id": "7e135b10",
   "metadata": {},
   "outputs": [
    {
     "name": "stdout",
     "output_type": "stream",
     "text": [
      "hello <class 'str'>\n"
     ]
    }
   ],
   "source": [
    "# creating a tuple with single element\n",
    "tu = ('hello')\n",
    "print(tu, type(tu))"
   ]
  },
  {
   "cell_type": "code",
   "execution_count": 5,
   "id": "1c156129",
   "metadata": {},
   "outputs": [
    {
     "name": "stdout",
     "output_type": "stream",
     "text": [
      "1 <class 'int'>\n"
     ]
    }
   ],
   "source": [
    "tu1 = (1)\n",
    "print(tu1, type(tu1))"
   ]
  },
  {
   "cell_type": "code",
   "execution_count": 6,
   "id": "c7b4d378",
   "metadata": {},
   "outputs": [
    {
     "name": "stdout",
     "output_type": "stream",
     "text": [
      "('hello',) <class 'tuple'>\n"
     ]
    }
   ],
   "source": [
    "tu_single = (\"hello\",)\n",
    "print(tu_single, type(tu_single))"
   ]
  },
  {
   "cell_type": "code",
   "execution_count": 7,
   "id": "c8a5af41",
   "metadata": {},
   "outputs": [
    {
     "name": "stdout",
     "output_type": "stream",
     "text": [
      "1\n",
      "hello\n",
      "3.4\n",
      "1\n",
      "hello\n",
      "3.4\n"
     ]
    }
   ],
   "source": [
    "# Accessing tuple elements\n",
    "# my_tuple = (1,\"hello\", 3.4)\n",
    "# Iterating tuple elements\n",
    "for i in my_tuple:\n",
    "    print(i)\n",
    "# Iterating in tuple index\n",
    "for i in range(len(my_tuple)):\n",
    "    print(my_tuple[i])"
   ]
  },
  {
   "cell_type": "code",
   "execution_count": 8,
   "id": "e1a81e9a",
   "metadata": {},
   "outputs": [
    {
     "name": "stdout",
     "output_type": "stream",
     "text": [
      "llo\n"
     ]
    }
   ],
   "source": [
    "# Accessing tuple elements\n",
    "# my_tuple = (1,\"hello\", 3.4)\n",
    "# indexing to print \"llo\"\n",
    "print(my_tuple[1][2:6])"
   ]
  },
  {
   "cell_type": "code",
   "execution_count": 9,
   "id": "1b91727e",
   "metadata": {},
   "outputs": [
    {
     "name": "stdout",
     "output_type": "stream",
     "text": [
      "(4, 3, 2, [7, 5])\n"
     ]
    }
   ],
   "source": [
    "# changing tuple value # immutable hence we cannot change immutable elements in tuple but can change mutable elements (list)\n",
    "e = (4,3,2,[6,5])\n",
    "e[3][0] = 7\n",
    "print(e)"
   ]
  },
  {
   "cell_type": "code",
   "execution_count": 10,
   "id": "c611a32d",
   "metadata": {},
   "outputs": [],
   "source": [
    "# reassigning\n",
    "e = (8,9,10)"
   ]
  },
  {
   "cell_type": "code",
   "execution_count": 11,
   "id": "c9fb854b",
   "metadata": {},
   "outputs": [
    {
     "name": "stdout",
     "output_type": "stream",
     "text": [
      "(8, 9, 10, 11, 12, 13)\n"
     ]
    }
   ],
   "source": [
    "# Concatenating\n",
    "f = (11,12,13)\n",
    "s = e + f\n",
    "print(s)"
   ]
  },
  {
   "cell_type": "code",
   "execution_count": 12,
   "id": "3c524302",
   "metadata": {},
   "outputs": [
    {
     "ename": "NameError",
     "evalue": "name 's' is not defined",
     "output_type": "error",
     "traceback": [
      "\u001b[1;31m---------------------------------------------------------------------------\u001b[0m",
      "\u001b[1;31mNameError\u001b[0m                                 Traceback (most recent call last)",
      "Input \u001b[1;32mIn [12]\u001b[0m, in \u001b[0;36m<cell line: 3>\u001b[1;34m()\u001b[0m\n\u001b[0;32m      1\u001b[0m \u001b[38;5;66;03m# deleting tuple can be done # but not single tuple element\u001b[39;00m\n\u001b[0;32m      2\u001b[0m \u001b[38;5;28;01mdel\u001b[39;00m s\n\u001b[1;32m----> 3\u001b[0m \u001b[38;5;28mprint\u001b[39m(\u001b[43ms\u001b[49m)\n",
      "\u001b[1;31mNameError\u001b[0m: name 's' is not defined"
     ]
    }
   ],
   "source": [
    "# deleting tuple can be done # but not single tuple element\n",
    "del s\n",
    "print(s)\n",
    "# membership operation # in, not in "
   ]
  },
  {
   "cell_type": "code",
   "execution_count": null,
   "id": "8ae63f1f",
   "metadata": {},
   "outputs": [],
   "source": []
  }
 ],
 "metadata": {
  "kernelspec": {
   "display_name": "Python 3 (ipykernel)",
   "language": "python",
   "name": "python3"
  },
  "language_info": {
   "codemirror_mode": {
    "name": "ipython",
    "version": 3
   },
   "file_extension": ".py",
   "mimetype": "text/x-python",
   "name": "python",
   "nbconvert_exporter": "python",
   "pygments_lexer": "ipython3",
   "version": "3.9.12"
  }
 },
 "nbformat": 4,
 "nbformat_minor": 5
}
