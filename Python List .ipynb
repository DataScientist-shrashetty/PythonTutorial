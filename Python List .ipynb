{
 "cells": [
  {
   "cell_type": "markdown",
   "id": "6524d684",
   "metadata": {},
   "source": [
    "List is mutable, ordered collection of items of diff types"
   ]
  },
  {
   "cell_type": "code",
   "execution_count": 1,
   "id": "e3ac5b1a",
   "metadata": {},
   "outputs": [
    {
     "data": {
      "text/plain": [
       "list"
      ]
     },
     "execution_count": 1,
     "metadata": {},
     "output_type": "execute_result"
    }
   ],
   "source": [
    "# empty list\n",
    "my_list = []\n",
    "type(my_list)"
   ]
  },
  {
   "cell_type": "code",
   "execution_count": 2,
   "id": "3150c037",
   "metadata": {},
   "outputs": [],
   "source": [
    "# assigning values to list\n",
    "my_list = [1, \"Shraddha\", 67.96]"
   ]
  },
  {
   "cell_type": "markdown",
   "id": "35e17abd",
   "metadata": {},
   "source": [
    "Indexing starts from Zero and supports both positive and negative indexing"
   ]
  },
  {
   "cell_type": "code",
   "execution_count": 3,
   "id": "ee5971f8",
   "metadata": {},
   "outputs": [
    {
     "name": "stdout",
     "output_type": "stream",
     "text": [
      "1\n",
      "Shraddha\n",
      "67.96\n"
     ]
    }
   ],
   "source": [
    "# iteration to access element simple list # my_list = [1, \"Shraddha\", 67.96]\n",
    "for i in my_list:\n",
    "    print(i)"
   ]
  },
  {
   "cell_type": "code",
   "execution_count": 4,
   "id": "0dc39172",
   "metadata": {},
   "outputs": [
    {
     "name": "stdout",
     "output_type": "stream",
     "text": [
      "1\n",
      "Shraddha\n",
      "67.96\n"
     ]
    }
   ],
   "source": [
    "# iteration to access index simplelist # my_list = [1, \"Shraddha\", 67.96] \n",
    "for i in range(len(my_list)):\n",
    "    print(my_list[i])"
   ]
  },
  {
   "cell_type": "code",
   "execution_count": 5,
   "id": "d28b6263",
   "metadata": {},
   "outputs": [
    {
     "data": {
      "text/plain": [
       "'Shra'"
      ]
     },
     "execution_count": 5,
     "metadata": {},
     "output_type": "execute_result"
    }
   ],
   "source": [
    "# indexing indexable element in list # my_list = [1, \"Shraddha\", 67.96]\n",
    "my_list[1][0:4]"
   ]
  },
  {
   "cell_type": "code",
   "execution_count": 6,
   "id": "f607ffea",
   "metadata": {},
   "outputs": [
    {
     "name": "stdout",
     "output_type": "stream",
     "text": [
      "[1, 'Shraddha', 67.96]\n",
      "[1, 'Shraddha', 67.96]\n",
      "['Shraddha']\n",
      "[1, 67.96]\n",
      "67.96\n"
     ]
    }
   ],
   "source": [
    "# positive and negative indexing in simple list # my_list = [1, \"Shraddha\", 67.96]\n",
    "print(my_list[0:3])\n",
    "print(my_list[:])\n",
    "print(my_list[-2:-1])\n",
    "print(my_list[0:3:2])\n",
    "print(my_list[-1])"
   ]
  },
  {
   "cell_type": "code",
   "execution_count": 7,
   "id": "6d62f095",
   "metadata": {},
   "outputs": [],
   "source": [
    "# nested list creation\n",
    "nested_my_list = [\"Employee\",[1, \"Shraddha\", 67.96], [\"absent\"]]"
   ]
  },
  {
   "cell_type": "code",
   "execution_count": 8,
   "id": "73f86537",
   "metadata": {},
   "outputs": [
    {
     "name": "stdout",
     "output_type": "stream",
     "text": [
      "Employee\n",
      "[1, 'Shraddha', 67.96]\n",
      "['absent']\n"
     ]
    }
   ],
   "source": [
    "# indexing in nested list # nested_my_list = [\"Employee\",[1, \"Shraddha\", 67.96], [\"absent\"]]\n",
    "# iteration to access element\n",
    "for i in nested_my_list:\n",
    "    print(i)"
   ]
  },
  {
   "cell_type": "code",
   "execution_count": 9,
   "id": "3809f263",
   "metadata": {},
   "outputs": [
    {
     "name": "stdout",
     "output_type": "stream",
     "text": [
      "['Employee', [1, 'Shraddha', 67.96], ['absent']]\n",
      "Shra\n",
      "[1, 'Shraddha', 67.96]\n",
      "Shra\n"
     ]
    }
   ],
   "source": [
    "# positive and negative indexing in nested list # nested_my_list = [\"Employee\",[1, \"Shraddha\", 67.96], [\"absent\"]]\n",
    "print(nested_my_list[0:3])\n",
    "print(nested_my_list[1][1][0:4])\n",
    "print(nested_my_list[-2])\n",
    "print(nested_my_list[-2][-2][-8:-4])"
   ]
  },
  {
   "cell_type": "code",
   "execution_count": 10,
   "id": "5c5fd66e",
   "metadata": {},
   "outputs": [
    {
     "name": "stdout",
     "output_type": "stream",
     "text": [
      "['Employee', [1, 'Shraddha', 45], ['absent']]\n"
     ]
    }
   ],
   "source": [
    "# changing value 67.96 to 45 # nested_my_list = [\"Employee\",[1, \"Shraddha\", 67.96], [\"absent\"]]\n",
    "nested_my_list[1][2] = 45\n",
    "print(nested_my_list)"
   ]
  },
  {
   "cell_type": "code",
   "execution_count": null,
   "id": "7eeb3ca8",
   "metadata": {},
   "outputs": [],
   "source": [
    "# adding elements to list\n",
    "# my_list = [1, \"Shraddha\", 67.96]\n",
    "# nested_my_list =['Employee', [1, 'Shraddha', 45], ['absent']]\n",
    "# my_list[3] = \"Shetty\" # list assignment index out of range  # can only change value of existing list element\n",
    "# print(my_list)"
   ]
  },
  {
   "cell_type": "code",
   "execution_count": 11,
   "id": "3907139f",
   "metadata": {},
   "outputs": [
    {
     "name": "stdout",
     "output_type": "stream",
     "text": [
      "[1, 'Shraddha', 67.96, 'Shetty']\n"
     ]
    }
   ],
   "source": [
    "# adding elements to list\n",
    "# append # add one value at a time # to the end of list \n",
    "my_list.append(\"Shetty\")\n",
    "print(my_list)"
   ]
  },
  {
   "cell_type": "code",
   "execution_count": 12,
   "id": "cf1dceaf",
   "metadata": {},
   "outputs": [
    {
     "name": "stdout",
     "output_type": "stream",
     "text": [
      "[1, 'Shraddha', 67.96, 'Shetty', 'IonIdea', 'Whitefield']\n"
     ]
    }
   ],
   "source": [
    "# adding elements to list\n",
    "# extend # add more than one value to the end of the list\n",
    "my_list.extend([\"IonIdea\", \"Whitefield\"])\n",
    "print(my_list)"
   ]
  },
  {
   "cell_type": "code",
   "execution_count": 13,
   "id": "ce7b0271",
   "metadata": {},
   "outputs": [
    {
     "name": "stdout",
     "output_type": "stream",
     "text": [
      "['apple', 'kiwi']\n",
      "['apple', 'kiwi', 'tomato', 'onion']\n"
     ]
    }
   ],
   "source": [
    "# Concatenate list\n",
    "# # using extend\n",
    "market_list = []\n",
    "fruits = [\"apple\", \"kiwi\"]\n",
    "vegetable = [\"tomato\", \"onion\"]\n",
    "market_list.extend(fruits)\n",
    "print(market_list)\n",
    "market_list.extend(vegetable)\n",
    "print(market_list)"
   ]
  },
  {
   "cell_type": "code",
   "execution_count": 14,
   "id": "10f6c5d8",
   "metadata": {},
   "outputs": [
    {
     "name": "stdout",
     "output_type": "stream",
     "text": [
      "[1, 'Shraddha', 67.96, 'Shetty', 'IonIdea', 'Whitefield', 'Employee', [1, 'Shraddha', 45], ['absent']]\n"
     ]
    }
   ],
   "source": [
    "# Concatenate list\n",
    "# using + operator\n",
    "list_compile = my_list + nested_my_list\n",
    "print(list_compile)"
   ]
  },
  {
   "cell_type": "code",
   "execution_count": 15,
   "id": "37c1f39b",
   "metadata": {},
   "outputs": [
    {
     "name": "stdout",
     "output_type": "stream",
     "text": [
      "[1, 'Shraddha', 67.96, 'Shetty', 'IonIdea', 'Whitefield', 1, 'Shraddha', 67.96, 'Shetty', 'IonIdea', 'Whitefield', 1, 'Shraddha', 67.96, 'Shetty', 'IonIdea', 'Whitefield']\n"
     ]
    }
   ],
   "source": [
    "# using * operator in list\n",
    "print(my_list*3)"
   ]
  },
  {
   "cell_type": "code",
   "execution_count": 16,
   "id": "037c2945",
   "metadata": {},
   "outputs": [
    {
     "name": "stdout",
     "output_type": "stream",
     "text": [
      "[1, 'Shraddha', 67.96, 'Shetty', 'IonIdea', 'Whitefield']\n"
     ]
    }
   ],
   "source": [
    "# deleting list element\n",
    "print(my_list)"
   ]
  },
  {
   "cell_type": "code",
   "execution_count": 17,
   "id": "709244a2",
   "metadata": {},
   "outputs": [
    {
     "name": "stdout",
     "output_type": "stream",
     "text": [
      "Whitefield\n",
      "[1, 'Shraddha', 67.96, 'Shetty', 'IonIdea']\n"
     ]
    }
   ],
   "source": [
    "# my_list = [1, 'Shraddha', 67.96, 'Shetty',IonIdea', 'Whitefield']\n",
    "# pop()- remove item and index \n",
    "print(my_list.pop())\n",
    "print(my_list)"
   ]
  },
  {
   "cell_type": "code",
   "execution_count": 18,
   "id": "cadcf7cd",
   "metadata": {},
   "outputs": [
    {
     "name": "stdout",
     "output_type": "stream",
     "text": [
      "[1, 'Shraddha', 'Shetty', 'IonIdea']\n"
     ]
    }
   ],
   "source": [
    "# my_list = [1, 'Shraddha', 67.96, 'Shetty', 'IonIdea']\n",
    "# remove() - removes given item\n",
    "my_list.remove(67.96)\n",
    "print(my_list)"
   ]
  },
  {
   "cell_type": "code",
   "execution_count": 19,
   "id": "fcec278b",
   "metadata": {},
   "outputs": [
    {
     "name": "stdout",
     "output_type": "stream",
     "text": [
      "[1, 'Shraddha', 'Shetty']\n"
     ]
    }
   ],
   "source": [
    "# my_list = [1, 'Shraddha', 'Shetty', 'IonIdea']\n",
    "del my_list[3]\n",
    "print(my_list)"
   ]
  },
  {
   "cell_type": "code",
   "execution_count": 20,
   "id": "f3923bb8",
   "metadata": {},
   "outputs": [
    {
     "name": "stdout",
     "output_type": "stream",
     "text": [
      "[]\n"
     ]
    }
   ],
   "source": [
    "# my_list = [1, 'Shraddha', 'Shetty']\n",
    "# clear() - make existing list as empty list\n",
    "my_list.clear()\n",
    "print(my_list)"
   ]
  },
  {
   "cell_type": "code",
   "execution_count": 21,
   "id": "56c80a2d",
   "metadata": {},
   "outputs": [
    {
     "ename": "NameError",
     "evalue": "name 'my_list' is not defined",
     "output_type": "error",
     "traceback": [
      "\u001b[1;31m---------------------------------------------------------------------------\u001b[0m",
      "\u001b[1;31mNameError\u001b[0m                                 Traceback (most recent call last)",
      "Input \u001b[1;32mIn [21]\u001b[0m, in \u001b[0;36m<cell line: 3>\u001b[1;34m()\u001b[0m\n\u001b[0;32m      1\u001b[0m \u001b[38;5;66;03m# delete entire list using del\u001b[39;00m\n\u001b[0;32m      2\u001b[0m \u001b[38;5;28;01mdel\u001b[39;00m my_list\n\u001b[1;32m----> 3\u001b[0m \u001b[38;5;28mprint\u001b[39m(\u001b[43mmy_list\u001b[49m)\n",
      "\u001b[1;31mNameError\u001b[0m: name 'my_list' is not defined"
     ]
    }
   ],
   "source": [
    "# delete entire list using del\n",
    "del my_list\n",
    "print(my_list)"
   ]
  },
  {
   "cell_type": "markdown",
   "id": "e63c0de2",
   "metadata": {},
   "source": [
    "List method \n",
    "index() - returns the first matched item\n",
    "count() - no of frequency\n",
    "sort() - sorts in ascending\n",
    "reverse() - reverses \n",
    "copy() - shallow copy of list"
   ]
  },
  {
   "cell_type": "markdown",
   "id": "e1c69824",
   "metadata": {},
   "source": [
    "membership operation # in, not in"
   ]
  },
  {
   "cell_type": "code",
   "execution_count": 22,
   "id": "66b4b884",
   "metadata": {},
   "outputs": [
    {
     "name": "stdout",
     "output_type": "stream",
     "text": [
      "[1, 2, 4, 8, 16, 32, 64, 128, 256, 512]\n"
     ]
    }
   ],
   "source": [
    "# calculate 2^n for first 10 natural numbers\n",
    "pow2 = []\n",
    "for x in range(10):\n",
    "    pow2.append(2**x)\n",
    "print(pow2)"
   ]
  },
  {
   "cell_type": "code",
   "execution_count": 23,
   "id": "c7a09d57",
   "metadata": {},
   "outputs": [
    {
     "name": "stdout",
     "output_type": "stream",
     "text": [
      "[1, 2, 4, 8, 16, 32, 64, 128, 256, 512]\n"
     ]
    }
   ],
   "source": [
    "# list comprehension\n",
    "pow2 = [2**x for x in range(10)]\n",
    "print(pow2)"
   ]
  },
  {
   "cell_type": "code",
   "execution_count": null,
   "id": "5739cbf3",
   "metadata": {},
   "outputs": [],
   "source": []
  }
 ],
 "metadata": {
  "kernelspec": {
   "display_name": "Python 3 (ipykernel)",
   "language": "python",
   "name": "python3"
  },
  "language_info": {
   "codemirror_mode": {
    "name": "ipython",
    "version": 3
   },
   "file_extension": ".py",
   "mimetype": "text/x-python",
   "name": "python",
   "nbconvert_exporter": "python",
   "pygments_lexer": "ipython3",
   "version": "3.9.12"
  }
 },
 "nbformat": 4,
 "nbformat_minor": 5
}
